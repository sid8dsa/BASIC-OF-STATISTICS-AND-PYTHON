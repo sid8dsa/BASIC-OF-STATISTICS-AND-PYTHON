{
 "cells": [
  {
   "cell_type": "markdown",
   "id": "bb5ac653",
   "metadata": {},
   "source": [
    "# basic statistics1"
   ]
  },
  {
   "cell_type": "markdown",
   "id": "f9b0f819",
   "metadata": {},
   "source": [
    "# Q7"
   ]
  },
  {
   "cell_type": "raw",
   "id": "ffdeb6cd",
   "metadata": {},
   "source": []
  },
  {
   "cell_type": "code",
   "execution_count": 1,
   "id": "95896454",
   "metadata": {},
   "outputs": [],
   "source": [
    "import pandas as pd\n",
    "import numpy as np\n",
    "import statistics as stat\n",
    "import matplotlib.pyplot as plt\n",
    "import seaborn as sn\n",
    "import scipy.stats as stats"
   ]
  },
  {
   "cell_type": "code",
   "execution_count": 2,
   "id": "12656fa4",
   "metadata": {},
   "outputs": [
    {
     "ename": "NameError",
     "evalue": "name 'cars' is not defined",
     "output_type": "error",
     "traceback": [
      "\u001b[1;31m---------------------------------------------------------------------------\u001b[0m",
      "\u001b[1;31mNameError\u001b[0m                                 Traceback (most recent call last)",
      "Cell \u001b[1;32mIn[2], line 1\u001b[0m\n\u001b[1;32m----> 1\u001b[0m cars\n",
      "\u001b[1;31mNameError\u001b[0m: name 'cars' is not defined"
     ]
    }
   ],
   "source": [
    "cars"
   ]
  },
  {
   "cell_type": "code",
   "execution_count": 2,
   "id": "58f9dc97",
   "metadata": {},
   "outputs": [],
   "source": [
    "cars= pd.read_csv(\"C:/Users/Shreesai/Desktop/DATA SCIENCE/Q7.csv\")"
   ]
  },
  {
   "cell_type": "code",
   "execution_count": 4,
   "id": "66693271",
   "metadata": {},
   "outputs": [
    {
     "data": {
      "text/html": [
       "<div>\n",
       "<style scoped>\n",
       "    .dataframe tbody tr th:only-of-type {\n",
       "        vertical-align: middle;\n",
       "    }\n",
       "\n",
       "    .dataframe tbody tr th {\n",
       "        vertical-align: top;\n",
       "    }\n",
       "\n",
       "    .dataframe thead th {\n",
       "        text-align: right;\n",
       "    }\n",
       "</style>\n",
       "<table border=\"1\" class=\"dataframe\">\n",
       "  <thead>\n",
       "    <tr style=\"text-align: right;\">\n",
       "      <th></th>\n",
       "      <th>Points</th>\n",
       "      <th>Score</th>\n",
       "      <th>Weigh</th>\n",
       "    </tr>\n",
       "  </thead>\n",
       "  <tbody>\n",
       "    <tr>\n",
       "      <th>count</th>\n",
       "      <td>32.000000</td>\n",
       "      <td>32.000000</td>\n",
       "      <td>32.000000</td>\n",
       "    </tr>\n",
       "    <tr>\n",
       "      <th>mean</th>\n",
       "      <td>3.596563</td>\n",
       "      <td>3.217250</td>\n",
       "      <td>17.848750</td>\n",
       "    </tr>\n",
       "    <tr>\n",
       "      <th>std</th>\n",
       "      <td>0.534679</td>\n",
       "      <td>0.978457</td>\n",
       "      <td>1.786943</td>\n",
       "    </tr>\n",
       "    <tr>\n",
       "      <th>min</th>\n",
       "      <td>2.760000</td>\n",
       "      <td>1.513000</td>\n",
       "      <td>14.500000</td>\n",
       "    </tr>\n",
       "    <tr>\n",
       "      <th>25%</th>\n",
       "      <td>3.080000</td>\n",
       "      <td>2.581250</td>\n",
       "      <td>16.892500</td>\n",
       "    </tr>\n",
       "    <tr>\n",
       "      <th>50%</th>\n",
       "      <td>3.695000</td>\n",
       "      <td>3.325000</td>\n",
       "      <td>17.710000</td>\n",
       "    </tr>\n",
       "    <tr>\n",
       "      <th>75%</th>\n",
       "      <td>3.920000</td>\n",
       "      <td>3.610000</td>\n",
       "      <td>18.900000</td>\n",
       "    </tr>\n",
       "    <tr>\n",
       "      <th>max</th>\n",
       "      <td>4.930000</td>\n",
       "      <td>5.424000</td>\n",
       "      <td>22.900000</td>\n",
       "    </tr>\n",
       "  </tbody>\n",
       "</table>\n",
       "</div>"
      ],
      "text/plain": [
       "          Points      Score      Weigh\n",
       "count  32.000000  32.000000  32.000000\n",
       "mean    3.596563   3.217250  17.848750\n",
       "std     0.534679   0.978457   1.786943\n",
       "min     2.760000   1.513000  14.500000\n",
       "25%     3.080000   2.581250  16.892500\n",
       "50%     3.695000   3.325000  17.710000\n",
       "75%     3.920000   3.610000  18.900000\n",
       "max     4.930000   5.424000  22.900000"
      ]
     },
     "execution_count": 4,
     "metadata": {},
     "output_type": "execute_result"
    }
   ],
   "source": [
    "cars.describe()\n",
    "#here we can find the mean and std. deviation for the required part "
   ]
  },
  {
   "cell_type": "code",
   "execution_count": 6,
   "id": "73729c5b",
   "metadata": {},
   "outputs": [
    {
     "name": "stdout",
     "output_type": "stream",
     "text": [
      "Median Points: 3.6950000000000003, Mode Points: 3.92\n",
      "Median Score: 3.325, Mode Score: 3.44\n",
      "Median Weigh: 17.71, Mode Weigh: 17.02\n",
      "Variance Points: 0.28588135080645166, Standard Deviation Points: 0.5346787360709716, Range Points: 2.17\n",
      "Variance Score: 0.9573789677419356, Standard Deviation Score: 0.9784574429896967, Range Score: 3.9110000000000005\n",
      "Variance Weigh: 3.193166129032258, Standard Deviation Weigh: 1.7869432360968431, Range Weigh: 8.399999999999999\n"
     ]
    }
   ],
   "source": [
    "median_points = cars['Points'].median()\n",
    "mode_points = stat.mode(cars['Points'])\n",
    "\n",
    "median_score = cars['Score'].median()\n",
    "mode_score = stat.mode(cars['Score'])\n",
    "\n",
    "median_weigh = cars['Weigh'].median()\n",
    "mode_weigh = stat.mode(cars['Weigh'])\n",
    "\n",
    "# Calculate variance, standard deviation, and range\n",
    "variance_points = cars['Points'].var()\n",
    "std_dev_points = cars['Points'].std()\n",
    "range_points = cars['Points'].max() - cars['Points'].min()\n",
    "\n",
    "variance_score = cars['Score'].var()\n",
    "std_dev_score = cars['Score'].std()\n",
    "range_score = cars['Score'].max() - cars['Score'].min()\n",
    "\n",
    "variance_weigh = cars['Weigh'].var()\n",
    "std_dev_weigh = cars['Weigh'].std()\n",
    "range_weigh = cars['Weigh'].max() - cars['Weigh'].min()\n",
    "\n",
    "# Print the results\n",
    "print(f\"Median Points: {median_points}, Mode Points: {mode_points}\")\n",
    "print(f\"Median Score: {median_score}, Mode Score: {mode_score}\")\n",
    "print(f\"Median Weigh: {median_weigh}, Mode Weigh: {mode_weigh}\")\n",
    "\n",
    "print(f\"Variance Points: {variance_points}, Standard Deviation Points: {std_dev_points}, Range Points: {range_points}\")\n",
    "print(f\"Variance Score: {variance_score}, Standard Deviation Score: {std_dev_score}, Range Score: {range_score}\")\n",
    "\n",
    "print(f\"Variance Weigh: {variance_weigh}, Standard Deviation Weigh: {std_dev_weigh}, Range Weigh: {range_weigh}\")"
   ]
  },
  {
   "cell_type": "markdown",
   "id": "b022d56f",
   "metadata": {},
   "source": [
    "Points Distribution: The data points for Points are relatively clustered around the median, as indicated by a small range and standard deviation compared to Score and Weigh.\n",
    "Score Variability: The Score column shows higher variability compared to Points, as evidenced by its higher standard deviation and range.\n",
    "Weigh Range: Weigh has the widest range among the three columns, suggesting significant variation in weights across the dataset.\n",
    "Central Tendency: The median and mode values for each column provide insight into the central tendency of the data, indicating where most of the data points are concentrated.\n",
    "Data Spread: Variance and standard deviation measures help assess the spread of data points from the mean, with higher values indicating greater dispersion."
   ]
  },
  {
   "cell_type": "code",
   "execution_count": 7,
   "id": "eaf3c1d4",
   "metadata": {},
   "outputs": [],
   "source": [
    "cars.rename(columns={'car_name':'Car_name'}, inplace = True)"
   ]
  },
  {
   "cell_type": "code",
   "execution_count": 8,
   "id": "e755583a",
   "metadata": {},
   "outputs": [
    {
     "data": {
      "image/png": "[encoded data removed]",
      "text/plain": [
       "<Figure size 640x480 with 1 Axes>"
      ]
     },
     "metadata": {},
     "output_type": "display_data"
    }
   ],
   "source": [
    "plt.hist(cars[\"Points\"], bins = 10, edgecolor= 'black')\n",
    "plt.show()"
   ]
  },
  {
   "cell_type": "code",
   "execution_count": null,
   "id": "1d17f62d",
   "metadata": {},
   "outputs": [],
   "source": []
  },
  {
   "cell_type": "markdown",
   "id": "ab7d71e3",
   "metadata": {},
   "source": [
    "# Q.8"
   ]
  },
  {
   "cell_type": "code",
   "execution_count": 9,
   "id": "1d168521",
   "metadata": {},
   "outputs": [
    {
     "name": "stdout",
     "output_type": "stream",
     "text": [
      "The Expected Value of the Weight of a patient chosen at random is: 145.33333333333334 pounds\n"
     ]
    }
   ],
   "source": [
    "# Given weights of patients (in pounds)\n",
    "weights = [108, 110, 123, 134, 135, 145, 167, 187, 199]\n",
    "\n",
    "# Calculate the total number of patients\n",
    "n = len(weights)\n",
    "\n",
    "# Calculate the expected value\n",
    "expected_value = sum(weights) / n\n",
    "\n",
    "# Print the expected value\n",
    "print(f\"The Expected Value of the Weight of a patient chosen at random is: {expected_value} pounds\")\n"
   ]
  },
  {
   "cell_type": "markdown",
   "id": "4c3b4044",
   "metadata": {},
   "source": [
    "# Q. 9"
   ]
  },
  {
   "cell_type": "code",
   "execution_count": null,
   "id": "cee5bd75",
   "metadata": {},
   "outputs": [],
   "source": [
    "q9_a = pd.read_csv(\"C:/Users/Shreesai/Desktop/DATA SCIENCE/Q9_a.csv\")\n",
    "q9_b = pd.read_csv(\"C:/Users/Shreesai/Desktop/DATA SCIENCE/Q9_b.csv\")"
   ]
  },
  {
   "cell_type": "code",
   "execution_count": null,
   "id": "0436aa0d",
   "metadata": {},
   "outputs": [],
   "source": [
    "q9_b"
   ]
  },
  {
   "cell_type": "code",
   "execution_count": null,
   "id": "0df40a0b",
   "metadata": {},
   "outputs": [],
   "source": [
    "q9_b.rename(columns={'Unnamed: 0':'Cars_name'}, inplace = True)"
   ]
  },
  {
   "cell_type": "code",
   "execution_count": null,
   "id": "cf1238a4",
   "metadata": {},
   "outputs": [],
   "source": [
    "q9_b.skew()"
   ]
  },
  {
   "cell_type": "code",
   "execution_count": null,
   "id": "03a55a47",
   "metadata": {},
   "outputs": [],
   "source": [
    "q9_a.skew()"
   ]
  },
  {
   "cell_type": "code",
   "execution_count": null,
   "id": "c1974378",
   "metadata": {},
   "outputs": [],
   "source": [
    "q9_a.kurt()"
   ]
  },
  {
   "cell_type": "code",
   "execution_count": null,
   "id": "ca058085",
   "metadata": {},
   "outputs": [],
   "source": [
    "q9_b.kurt()"
   ]
  },
  {
   "cell_type": "markdown",
   "id": "32f1be66",
   "metadata": {},
   "source": [
    "# Q.11"
   ]
  },
  {
   "cell_type": "markdown",
   "id": "3a2c7dc4",
   "metadata": {},
   "source": [
    "Suppose we want to estimate the average weight of an adult male  in Mexico. We draw a random sample of 2,000 men from a population of 3,000,000 men and weigh them. We find that the average person in our sample weighs 200 pounds, and the standard deviation of the sample is 30 pounds. Calculate 94%,98%,96% confidence interval?"
   ]
  },
  {
   "cell_type": "code",
   "execution_count": null,
   "id": "b938e46f",
   "metadata": {},
   "outputs": [],
   "source": [
    "# Sample data\n",
    "s_mean = 200 \n",
    "s_std = 30  # Sample standard deviation in pounds\n",
    "s_size = 2000  # Sample size\n",
    "sem = s_std / np.sqrt(s_size)\n",
    "c_levels = [0.94, 0.98, 0.96] # confidence levels\n",
    "\n",
    "\n",
    "confidence_intervals = {}\n",
    "for c_level in c_levels:\n",
    "    z_score = stats.norm.ppf((1 + c_level) / 2) \n",
    "    margin_of_error = z_score * sem\n",
    "    lower_limit = s_mean - margin_of_error\n",
    "    upper_limit = s_mean + margin_of_error\n",
    "    confidence_intervals[c_level] = (lower_limit, upper_limit)\n",
    "for confidence_level, interval in confidence_intervals.items():\n",
    "    print(f\"{confidence_level * 100:.0f}% Confidence Interval: {interval[0]:.2f} to {interval[1]:.2f} pounds\")"
   ]
  },
  {
   "cell_type": "markdown",
   "id": "a1f53129",
   "metadata": {},
   "source": [
    "# Q.20\n",
    "Calculate probability from the given dataset for the below cases\n",
    "\n",
    "Data _set: Cars.csv\n",
    "Calculate the probability of MPG  of Cars for the below cases.\n",
    "      ###### MPG <- Cars$MPG\n",
    " ######  a.\tP(MPG>38)\n",
    " ######  b.\tP(MPG<40)\n",
    " ######  c.    P (20<MPG<50)\n",
    "\n"
   ]
  },
  {
   "cell_type": "code",
   "execution_count": 12,
   "id": "997c3360",
   "metadata": {},
   "outputs": [],
   "source": [
    "Q20 = pd.read_csv(\"C:/Users/Shreesai/Desktop/DATA SCIENCE/Cars.csv\")"
   ]
  },
  {
   "cell_type": "code",
   "execution_count": 13,
   "id": "5407f8e7",
   "metadata": {},
   "outputs": [
    {
     "data": {
      "text/html": [
       "<div>\n",
       "<style scoped>\n",
       "    .dataframe tbody tr th:only-of-type {\n",
       "        vertical-align: middle;\n",
       "    }\n",
       "\n",
       "    .dataframe tbody tr th {\n",
       "        vertical-align: top;\n",
       "    }\n",
       "\n",
       "    .dataframe thead th {\n",
       "        text-align: right;\n",
       "    }\n",
       "</style>\n",
       "<table border=\"1\" class=\"dataframe\">\n",
       "  <thead>\n",
       "    <tr style=\"text-align: right;\">\n",
       "      <th></th>\n",
       "      <th>HP</th>\n",
       "      <th>MPG</th>\n",
       "      <th>VOL</th>\n",
       "      <th>SP</th>\n",
       "      <th>WT</th>\n",
       "    </tr>\n",
       "  </thead>\n",
       "  <tbody>\n",
       "    <tr>\n",
       "      <th>0</th>\n",
       "      <td>49</td>\n",
       "      <td>53.700681</td>\n",
       "      <td>89</td>\n",
       "      <td>104.185353</td>\n",
       "      <td>28.762059</td>\n",
       "    </tr>\n",
       "    <tr>\n",
       "      <th>1</th>\n",
       "      <td>55</td>\n",
       "      <td>50.013401</td>\n",
       "      <td>92</td>\n",
       "      <td>105.461264</td>\n",
       "      <td>30.466833</td>\n",
       "    </tr>\n",
       "    <tr>\n",
       "      <th>2</th>\n",
       "      <td>55</td>\n",
       "      <td>50.013401</td>\n",
       "      <td>92</td>\n",
       "      <td>105.461264</td>\n",
       "      <td>30.193597</td>\n",
       "    </tr>\n",
       "    <tr>\n",
       "      <th>3</th>\n",
       "      <td>70</td>\n",
       "      <td>45.696322</td>\n",
       "      <td>92</td>\n",
       "      <td>113.461264</td>\n",
       "      <td>30.632114</td>\n",
       "    </tr>\n",
       "    <tr>\n",
       "      <th>4</th>\n",
       "      <td>53</td>\n",
       "      <td>50.504232</td>\n",
       "      <td>92</td>\n",
       "      <td>104.461264</td>\n",
       "      <td>29.889149</td>\n",
       "    </tr>\n",
       "    <tr>\n",
       "      <th>...</th>\n",
       "      <td>...</td>\n",
       "      <td>...</td>\n",
       "      <td>...</td>\n",
       "      <td>...</td>\n",
       "      <td>...</td>\n",
       "    </tr>\n",
       "    <tr>\n",
       "      <th>76</th>\n",
       "      <td>322</td>\n",
       "      <td>36.900000</td>\n",
       "      <td>50</td>\n",
       "      <td>169.598513</td>\n",
       "      <td>16.132947</td>\n",
       "    </tr>\n",
       "    <tr>\n",
       "      <th>77</th>\n",
       "      <td>238</td>\n",
       "      <td>19.197888</td>\n",
       "      <td>115</td>\n",
       "      <td>150.576579</td>\n",
       "      <td>37.923113</td>\n",
       "    </tr>\n",
       "    <tr>\n",
       "      <th>78</th>\n",
       "      <td>263</td>\n",
       "      <td>34.000000</td>\n",
       "      <td>50</td>\n",
       "      <td>151.598513</td>\n",
       "      <td>15.769625</td>\n",
       "    </tr>\n",
       "    <tr>\n",
       "      <th>79</th>\n",
       "      <td>295</td>\n",
       "      <td>19.833733</td>\n",
       "      <td>119</td>\n",
       "      <td>167.944460</td>\n",
       "      <td>39.423099</td>\n",
       "    </tr>\n",
       "    <tr>\n",
       "      <th>80</th>\n",
       "      <td>236</td>\n",
       "      <td>12.101263</td>\n",
       "      <td>107</td>\n",
       "      <td>139.840817</td>\n",
       "      <td>34.948615</td>\n",
       "    </tr>\n",
       "  </tbody>\n",
       "</table>\n",
       "<p>81 rows × 5 columns</p>\n",
       "</div>"
      ],
      "text/plain": [
       "     HP        MPG  VOL          SP         WT\n",
       "0    49  53.700681   89  104.185353  28.762059\n",
       "1    55  50.013401   92  105.461264  30.466833\n",
       "2    55  50.013401   92  105.461264  30.193597\n",
       "3    70  45.696322   92  113.461264  30.632114\n",
       "4    53  50.504232   92  104.461264  29.889149\n",
       "..  ...        ...  ...         ...        ...\n",
       "76  322  36.900000   50  169.598513  16.132947\n",
       "77  238  19.197888  115  150.576579  37.923113\n",
       "78  263  34.000000   50  151.598513  15.769625\n",
       "79  295  19.833733  119  167.944460  39.423099\n",
       "80  236  12.101263  107  139.840817  34.948615\n",
       "\n",
       "[81 rows x 5 columns]"
      ]
     },
     "execution_count": 13,
     "metadata": {},
     "output_type": "execute_result"
    }
   ],
   "source": [
    "Q20"
   ]
  },
  {
   "cell_type": "code",
   "execution_count": 14,
   "id": "f30d9840",
   "metadata": {},
   "outputs": [
    {
     "name": "stdout",
     "output_type": "stream",
     "text": [
      "0.3466923853688819\n"
     ]
    }
   ],
   "source": [
    "mpg_mean = np.mean(Q20[\"MPG\"])\n",
    "mpg_std = np.std(Q20[\"MPG\"])\n",
    "#a. P(MPG>38)\n",
    "prob_a = 1- stats.norm.cdf(38,loc= mpg_mean,scale = mpg_std)\n",
    "print(prob_a)"
   ]
  },
  {
   "cell_type": "code",
   "execution_count": 15,
   "id": "d368a32c",
   "metadata": {},
   "outputs": [
    {
     "name": "stdout",
     "output_type": "stream",
     "text": [
      "0.7306083416219191\n"
     ]
    }
   ],
   "source": [
    "#b. P(MPG<40)\n",
    "prob_b =stats.norm.cdf(40,loc= mpg_mean,scale = mpg_std)\n",
    "print(prob_b)"
   ]
  },
  {
   "cell_type": "code",
   "execution_count": 16,
   "id": "02a757d5",
   "metadata": {},
   "outputs": [
    {
     "name": "stdout",
     "output_type": "stream",
     "text": [
      "0.012977952271471915\n"
     ]
    }
   ],
   "source": [
    "#P (20<MPG<50)\n",
    "prob_c = stats.norm.cdf(50,mpg_mean,mpg_std)-(1-stats.norm.cdf(20,mpg_mean,mpg_std))\n",
    "print(prob_c)"
   ]
  },
  {
   "cell_type": "code",
   "execution_count": 18,
   "id": "aaece43d",
   "metadata": {},
   "outputs": [],
   "source": []
  },
  {
   "cell_type": "markdown",
   "id": "5f05b651",
   "metadata": {},
   "source": [
    "# Q 21\n"
   ]
  },
  {
   "cell_type": "code",
   "execution_count": 19,
   "id": "24606eca",
   "metadata": {},
   "outputs": [],
   "source": [
    "#b)\tCheck Whether the Adipose Tissue (AT) and Waist Circumference(Waist)  from wc-at data set  follows Normal Distribution "
   ]
  },
  {
   "cell_type": "code",
   "execution_count": 22,
   "id": "83750f9b",
   "metadata": {},
   "outputs": [
    {
     "data": {
      "text/plain": [
       "(array([ 1.,  6., 10.,  4., 10., 15., 17.,  8.,  5.,  5.]),\n",
       " array([12.10126289, 16.26120474, 20.42114659, 24.58108844, 28.74103029,\n",
       "        32.90097213, 37.06091398, 41.22085583, 45.38079768, 49.54073953,\n",
       "        53.70068138]),\n",
       " <BarContainer object of 10 artists>)"
      ]
     },
     "execution_count": 22,
     "metadata": {},
     "output_type": "execute_result"
    },
    {
     "data": {
      "image/png": "[encoded data removed]",
      "text/plain": [
       "<Figure size 640x480 with 1 Axes>"
      ]
     },
     "metadata": {},
     "output_type": "display_data"
    }
   ],
   "source": [
    "plt.hist(Q20[\"MPG\"])"
   ]
  },
  {
   "cell_type": "raw",
   "id": "3990c046",
   "metadata": {},
   "source": []
  },
  {
   "cell_type": "code",
   "execution_count": 24,
   "id": "1b0be89d",
   "metadata": {},
   "outputs": [
    {
     "data": {
      "text/html": [
       "<div>\n",
       "<style scoped>\n",
       "    .dataframe tbody tr th:only-of-type {\n",
       "        vertical-align: middle;\n",
       "    }\n",
       "\n",
       "    .dataframe tbody tr th {\n",
       "        vertical-align: top;\n",
       "    }\n",
       "\n",
       "    .dataframe thead th {\n",
       "        text-align: right;\n",
       "    }\n",
       "</style>\n",
       "<table border=\"1\" class=\"dataframe\">\n",
       "  <thead>\n",
       "    <tr style=\"text-align: right;\">\n",
       "      <th></th>\n",
       "      <th>HP</th>\n",
       "      <th>MPG</th>\n",
       "      <th>VOL</th>\n",
       "      <th>SP</th>\n",
       "      <th>WT</th>\n",
       "    </tr>\n",
       "  </thead>\n",
       "  <tbody>\n",
       "    <tr>\n",
       "      <th>count</th>\n",
       "      <td>81.000000</td>\n",
       "      <td>81.000000</td>\n",
       "      <td>81.000000</td>\n",
       "      <td>81.000000</td>\n",
       "      <td>81.000000</td>\n",
       "    </tr>\n",
       "    <tr>\n",
       "      <th>mean</th>\n",
       "      <td>117.469136</td>\n",
       "      <td>34.422076</td>\n",
       "      <td>98.765432</td>\n",
       "      <td>121.540272</td>\n",
       "      <td>32.412577</td>\n",
       "    </tr>\n",
       "    <tr>\n",
       "      <th>std</th>\n",
       "      <td>57.113502</td>\n",
       "      <td>9.131445</td>\n",
       "      <td>22.301497</td>\n",
       "      <td>14.181432</td>\n",
       "      <td>7.492813</td>\n",
       "    </tr>\n",
       "    <tr>\n",
       "      <th>min</th>\n",
       "      <td>49.000000</td>\n",
       "      <td>12.101263</td>\n",
       "      <td>50.000000</td>\n",
       "      <td>99.564907</td>\n",
       "      <td>15.712859</td>\n",
       "    </tr>\n",
       "    <tr>\n",
       "      <th>25%</th>\n",
       "      <td>84.000000</td>\n",
       "      <td>27.856252</td>\n",
       "      <td>89.000000</td>\n",
       "      <td>113.829145</td>\n",
       "      <td>29.591768</td>\n",
       "    </tr>\n",
       "    <tr>\n",
       "      <th>50%</th>\n",
       "      <td>100.000000</td>\n",
       "      <td>35.152727</td>\n",
       "      <td>101.000000</td>\n",
       "      <td>118.208698</td>\n",
       "      <td>32.734518</td>\n",
       "    </tr>\n",
       "    <tr>\n",
       "      <th>75%</th>\n",
       "      <td>140.000000</td>\n",
       "      <td>39.531633</td>\n",
       "      <td>113.000000</td>\n",
       "      <td>126.404312</td>\n",
       "      <td>37.392524</td>\n",
       "    </tr>\n",
       "    <tr>\n",
       "      <th>max</th>\n",
       "      <td>322.000000</td>\n",
       "      <td>53.700681</td>\n",
       "      <td>160.000000</td>\n",
       "      <td>169.598513</td>\n",
       "      <td>52.997752</td>\n",
       "    </tr>\n",
       "  </tbody>\n",
       "</table>\n",
       "</div>"
      ],
      "text/plain": [
       "               HP        MPG         VOL          SP         WT\n",
       "count   81.000000  81.000000   81.000000   81.000000  81.000000\n",
       "mean   117.469136  34.422076   98.765432  121.540272  32.412577\n",
       "std     57.113502   9.131445   22.301497   14.181432   7.492813\n",
       "min     49.000000  12.101263   50.000000   99.564907  15.712859\n",
       "25%     84.000000  27.856252   89.000000  113.829145  29.591768\n",
       "50%    100.000000  35.152727  101.000000  118.208698  32.734518\n",
       "75%    140.000000  39.531633  113.000000  126.404312  37.392524\n",
       "max    322.000000  53.700681  160.000000  169.598513  52.997752"
      ]
     },
     "execution_count": 24,
     "metadata": {},
     "output_type": "execute_result"
    }
   ],
   "source": [
    "Q20.describe()"
   ]
  },
  {
   "cell_type": "code",
   "execution_count": 25,
   "id": "2b00c3b7",
   "metadata": {},
   "outputs": [
    {
     "data": {
      "text/plain": [
       "35.15272697"
      ]
     },
     "execution_count": 25,
     "metadata": {},
     "output_type": "execute_result"
    }
   ],
   "source": [
    "Q20[\"MPG\"].median()"
   ]
  },
  {
   "cell_type": "code",
   "execution_count": 26,
   "id": "a058aa81",
   "metadata": {},
   "outputs": [],
   "source": [
    "Q20b = pd.read_csv(\"C:/Users/Shreesai/Desktop/DATA SCIENCE/wc-at.csv\")"
   ]
  },
  {
   "cell_type": "code",
   "execution_count": 30,
   "id": "8ec7a886",
   "metadata": {},
   "outputs": [
    {
     "data": {
      "text/html": [
       "<div>\n",
       "<style scoped>\n",
       "    .dataframe tbody tr th:only-of-type {\n",
       "        vertical-align: middle;\n",
       "    }\n",
       "\n",
       "    .dataframe tbody tr th {\n",
       "        vertical-align: top;\n",
       "    }\n",
       "\n",
       "    .dataframe thead th {\n",
       "        text-align: right;\n",
       "    }\n",
       "</style>\n",
       "<table border=\"1\" class=\"dataframe\">\n",
       "  <thead>\n",
       "    <tr style=\"text-align: right;\">\n",
       "      <th></th>\n",
       "      <th>Waist</th>\n",
       "      <th>AT</th>\n",
       "    </tr>\n",
       "  </thead>\n",
       "  <tbody>\n",
       "    <tr>\n",
       "      <th>count</th>\n",
       "      <td>109.000000</td>\n",
       "      <td>109.000000</td>\n",
       "    </tr>\n",
       "    <tr>\n",
       "      <th>mean</th>\n",
       "      <td>91.901835</td>\n",
       "      <td>101.894037</td>\n",
       "    </tr>\n",
       "    <tr>\n",
       "      <th>std</th>\n",
       "      <td>13.559116</td>\n",
       "      <td>57.294763</td>\n",
       "    </tr>\n",
       "    <tr>\n",
       "      <th>min</th>\n",
       "      <td>63.500000</td>\n",
       "      <td>11.440000</td>\n",
       "    </tr>\n",
       "    <tr>\n",
       "      <th>25%</th>\n",
       "      <td>80.000000</td>\n",
       "      <td>50.880000</td>\n",
       "    </tr>\n",
       "    <tr>\n",
       "      <th>50%</th>\n",
       "      <td>90.800000</td>\n",
       "      <td>96.540000</td>\n",
       "    </tr>\n",
       "    <tr>\n",
       "      <th>75%</th>\n",
       "      <td>104.000000</td>\n",
       "      <td>137.000000</td>\n",
       "    </tr>\n",
       "    <tr>\n",
       "      <th>max</th>\n",
       "      <td>121.000000</td>\n",
       "      <td>253.000000</td>\n",
       "    </tr>\n",
       "  </tbody>\n",
       "</table>\n",
       "</div>"
      ],
      "text/plain": [
       "            Waist          AT\n",
       "count  109.000000  109.000000\n",
       "mean    91.901835  101.894037\n",
       "std     13.559116   57.294763\n",
       "min     63.500000   11.440000\n",
       "25%     80.000000   50.880000\n",
       "50%     90.800000   96.540000\n",
       "75%    104.000000  137.000000\n",
       "max    121.000000  253.000000"
      ]
     },
     "execution_count": 30,
     "metadata": {},
     "output_type": "execute_result"
    }
   ],
   "source": [
    "Q20b.describe()"
   ]
  },
  {
   "cell_type": "code",
   "execution_count": 29,
   "id": "5e10a6b7",
   "metadata": {},
   "outputs": [
    {
     "data": {
      "text/plain": [
       "Waist    90.80\n",
       "AT       96.54\n",
       "dtype: float64"
      ]
     },
     "execution_count": 29,
     "metadata": {},
     "output_type": "execute_result"
    }
   ],
   "source": [
    "Q20b.median()"
   ]
  },
  {
   "cell_type": "code",
   "execution_count": 31,
   "id": "a1d0cb1f",
   "metadata": {},
   "outputs": [],
   "source": [
    "#Calculate the Z scores of  90% confidence interval,94% confidence interval, 60% confidence interval "
   ]
  },
  {
   "cell_type": "code",
   "execution_count": 36,
   "id": "9d156fb5",
   "metadata": {},
   "outputs": [
    {
     "name": "stdout",
     "output_type": "stream",
     "text": [
      "Z score for 60% Conifidence Interval = -1.6449\n"
     ]
    }
   ],
   "source": [
    "print('Z score for 60% Conifidence Interval =',np.round(stats.norm.ppf(.05),4))"
   ]
  },
  {
   "cell_type": "code",
   "execution_count": 35,
   "id": "3015c3ac",
   "metadata": {},
   "outputs": [
    {
     "name": "stdout",
     "output_type": "stream",
     "text": [
      "Z score for 60% Conifidence Interval = -1.8808\n"
     ]
    }
   ],
   "source": [
    "print('Z score for 60% Conifidence Interval =',np.round(stats.norm.ppf(.03),4))"
   ]
  },
  {
   "cell_type": "code",
   "execution_count": 37,
   "id": "83c543a2",
   "metadata": {},
   "outputs": [
    {
     "name": "stdout",
     "output_type": "stream",
     "text": [
      "Z score for 60% Conifidence Interval = -0.8416\n"
     ]
    }
   ],
   "source": [
    "print('Z score for 60% Conifidence Interval =',np.round(stats.norm.ppf(.2),4))"
   ]
  },
  {
   "cell_type": "markdown",
   "id": "1fbe794e",
   "metadata": {},
   "source": [
    "#            Q 23) Calculate the t scores of 95% confidence interval, 96% confidence interval, 99% confidence interval for sample size of 25"
   ]
  },
  {
   "cell_type": "code",
   "execution_count": 40,
   "id": "5d159a73",
   "metadata": {},
   "outputs": [
    {
     "name": "stdout",
     "output_type": "stream",
     "text": [
      "T score for 95% Confidence Interval = -2.0639\n"
     ]
    }
   ],
   "source": [
    "# t score for 95% confidence interval\n",
    "print('T score for 95% Confidence Interval =',np.round(stats.t.ppf(0.025,df=24),4))\n"
   ]
  },
  {
   "cell_type": "code",
   "execution_count": 41,
   "id": "e7be9f74",
   "metadata": {},
   "outputs": [
    {
     "name": "stdout",
     "output_type": "stream",
     "text": [
      "T score for 95% Confidence Interval = -2.7969\n"
     ]
    }
   ],
   "source": [
    "# t value for 99% Confidence Interval\n",
    "print('T score for 95% Confidence Interval =',np.round(stats.t.ppf(0.005,df=24),4))"
   ]
  },
  {
   "cell_type": "code",
   "execution_count": 42,
   "id": "8379d428",
   "metadata": {},
   "outputs": [
    {
     "name": "stdout",
     "output_type": "stream",
     "text": [
      "T score for 94% Confidence Inteval = -1.974\n"
     ]
    }
   ],
   "source": [
    "# t value for 94% confidence interval\n",
    "print('T score for 94% Confidence Inteval =',np.round(stats.t.ppf(0.03,df=24),4))"
   ]
  },
  {
   "cell_type": "markdown",
   "id": "7ea8dba2",
   "metadata": {},
   "source": [
    "   A Government  company claims that an average light bulb lasts 270 days. A researcher randomly selects 18 bulbs for testing. The sampled bulbs last an average of 260 days, with a standard deviation of 90 days. If the CEO's claim were true, what is the probability that 18 randomly selected bulbs would have an average life of no more than 260 days"
   ]
  },
  {
   "cell_type": "markdown",
   "id": "c85027fa",
   "metadata": {},
   "source": [
    "# Q24"
   ]
  },
  {
   "cell_type": "code",
   "execution_count": 45,
   "id": "676df711",
   "metadata": {},
   "outputs": [
    {
     "name": "stdout",
     "output_type": "stream",
     "text": [
      "t-score: -0.4714\n",
      "Degrees of Freedom: 17\n",
      "Probability: 0.3217\n"
     ]
    }
   ],
   "source": [
    "sample_mean = 260 \n",
    "population_mean = 270 \n",
    "sample_std = 90 \n",
    "sample_size = 18 \n",
    "\n",
    "# Calculate the t-score\n",
    "t_score = (sample_mean - population_mean) / (sample_std / (sample_size ** 0.5))\n",
    "\n",
    "# Degrees of freedom for a t-distribution with n-1 degrees of freedom\n",
    "degrees_of_freedom = sample_size - 1\n",
    "probability = stats.t.cdf(t_score, df=degrees_of_freedom)\n",
    "\n",
    "print(f\"t-score: {t_score:.4f}\")\n",
    "print(f\"Degrees of Freedom: {degrees_of_freedom}\")\n",
    "print(f\"Probability: {probability:.4f}\")"
   ]
  },
  {
   "cell_type": "code",
   "execution_count": null,
   "id": "1b64b27a",
   "metadata": {},
   "outputs": [],
   "source": []
  },
  {
   "cell_type": "code",
   "execution_count": null,
   "id": "b8185df6",
   "metadata": {},
   "outputs": [],
   "source": []
  }
 ],
 "metadata": {
  "kernelspec": {
   "display_name": "Python 3 (ipykernel)",
   "language": "python",
   "name": "python3"
  },
  "language_info": {
   "codemirror_mode": {
    "name": "ipython",
    "version": 3
   },
   "file_extension": ".py",
   "mimetype": "text/x-python",
   "name": "python",
   "nbconvert_exporter": "python",
   "pygments_lexer": "ipython3",
   "version": "3.11.5"
  }
 },
 "nbformat": 4,
 "nbformat_minor": 5
}
